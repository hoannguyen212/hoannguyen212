{
  "nbformat": 4,
  "nbformat_minor": 0,
  "metadata": {
    "colab": {
      "private_outputs": true,
      "provenance": [],
      "mount_file_id": "1nF6YUk8hxfsvj-HM4tbpbjpfabt_3j6S",
      "authorship_tag": "ABX9TyMoCPL7sr9Dm+6lHDjwGeA3",
      "include_colab_link": true
    },
    "kernelspec": {
      "name": "python3",
      "display_name": "Python 3"
    },
    "language_info": {
      "name": "python"
    }
  },
  "cells": [
    {
      "cell_type": "markdown",
      "metadata": {
        "id": "view-in-github",
        "colab_type": "text"
      },
      "source": [
        "<a href=\"https://colab.research.google.com/github/hoannguyen212/hoannguyen212/blob/main/nhandienCAR.ipynb\" target=\"_parent\"><img src=\"https://colab.research.google.com/assets/colab-badge.svg\" alt=\"Open In Colab\"/></a>"
      ]
    },
    {
      "cell_type": "code",
      "execution_count": null,
      "metadata": {
        "id": "j7LhANom1VA1"
      },
      "outputs": [],
      "source": [
        "import numpy as np\n",
        "import pandas as pd\n",
        "import cv2\n",
        "import matplotlib.pyplot as plt\n",
        "from PIL import Image\n",
        "from keras.preprocessing.image import ImageDataGenerator, load_img\n",
        "from keras.models import Sequential\n",
        "from keras.layers import Conv2D, MaxPooling2D, Flatten, Dense, Dropout, Activation\n",
        "from keras.optimizers import Adam"
      ]
    },
    {
      "cell_type": "code",
      "source": [
        "from google.colab import drive\n",
        "drive.mount('/content/drive')"
      ],
      "metadata": {
        "id": "u4NBIdJxF8Rb"
      },
      "execution_count": null,
      "outputs": []
    },
    {
      "cell_type": "code",
      "source": [
        "url = '/content/drive/MyDrive/Car'\n",
        "img_size = 256\n",
        "batch = 32\n"
      ],
      "metadata": {
        "id": "rLS8jWwBF8yA"
      },
      "execution_count": null,
      "outputs": []
    },
    {
      "cell_type": "markdown",
      "source": [],
      "metadata": {
        "id": "Sz-OEl769vHv"
      }
    },
    {
      "cell_type": "code",
      "source": [
        "train_datagen = ImageDataGenerator(\n",
        "    rescale=1./255,\n",
        "    rotation_range=20,\n",
        "    shear_range=0.2,\n",
        "    zoom_range=0.2,\n",
        "    horizontal_flip=True,\n",
        "    width_shift_range=0.1,\n",
        "    height_shift_range=0.1,\n",
        "    validation_split=0.2)\n",
        "test_datagen = ImageDataGenerator(rescale=1./255,validation_split=0.2)\n",
        "\n",
        "train_generator = train_datagen.flow_from_directory(\n",
        "    url,\n",
        "    target_size=(224, 224),\n",
        "    batch_size=32,\n",
        "    class_mode='categorical',)\n",
        "\n",
        "validation_generator = test_datagen.flow_from_directory(\n",
        "    url,\n",
        "    target_size=(224, 224),\n",
        "    batch_size=32,\n",
        "    class_mode='categorical',)"
      ],
      "metadata": {
        "id": "ZBRJEAbvF-gi"
      },
      "execution_count": null,
      "outputs": []
    },
    {
      "cell_type": "code",
      "source": [
        "# Kiến trúc mạng được cải thiện\n",
        "model = Sequential()\n",
        "# Bộ 1 Convolution\n",
        "model.add(Conv2D(filters=64, kernel_size=(5, 5),  padding = 'same', activation='relu', input_shape=(224, 224, 3)))\n",
        "model.add(MaxPooling2D((2, 2)))\n",
        "# Bộ 2 Convolution\n",
        "model.add(Conv2D(filters=64, kernel_size=(3, 3),  padding = 'same', activation='relu'))\n",
        "model.add(MaxPooling2D((2, 2), strides = (2,2)))\n",
        "# Bộ 3 Convolution\n",
        "model.add(Conv2D(filters=64, kernel_size=(3, 3),  padding = 'same', activation='relu'))\n",
        "model.add(MaxPooling2D((2, 2), strides = (2,2)))\n",
        "# ANN\n",
        "model.add(Flatten())\n",
        "model.add(Dense(512,activation = 'relu'))\n",
        "model.add(Dense(8, activation='softmax'))# thay đổi số dựa theo số lớp"
      ],
      "metadata": {
        "id": "RRmHMPTbGAw2"
      },
      "execution_count": null,
      "outputs": []
    },
    {
      "cell_type": "code",
      "source": [
        "model.compile(loss='categorical_crossentropy', optimizer=Adam(), metrics=['accuracy'])\n",
        "model.fit_generator(train_generator,\n",
        "                    epochs=60,\n",
        "                    validation_data=validation_generator, verbose=2)"
      ],
      "metadata": {
        "id": "xohO7o10GDVR"
      },
      "execution_count": null,
      "outputs": []
    },
    {
      "cell_type": "code",
      "source": [
        "model.save('CAR_1.h5')"
      ],
      "metadata": {
        "id": "DXCo2LHpGFUi"
      },
      "execution_count": null,
      "outputs": []
    },
    {
      "cell_type": "code",
      "source": [
        "from keras.preprocessing.image import ImageDataGenerator, load_img, img_to_array\n",
        "from keras.models import load_model\n",
        "import numpy as np\n",
        "import matplotlib.pyplot as plt\n",
        "# *Lưu mô hình đã huấn luyện*\n",
        "model = load_model('/content/CAR_1.h5')\n",
        "\n",
        "# *Hàm dự đoán loài hoa*\n",
        "def predict_flower(image_path):\n",
        "  img = load_img(image_path, target_size=(224, 224))  # Đảm bảo kích thước ảnh giống với huấn luyện\n",
        "  img_array = img_to_array(img) / 255.0  # Chuẩn hóa ảnh\n",
        "  img_batch = np.expand_dims(img_array, axis=0)  # Thêm một chiều cho phù hợp với đầu vào mô hình\n",
        "\n",
        "  predictions = model.predict(img_batch)  # Dự đoán xác suất của các lớp\n",
        "  predicted_class = np.argmax(predictions[0])  # Lấy lớp có xác suất cao nhất\n",
        "\n",
        "  # Hiển thị kết quả dự đoán (tùy chỉnh theo tên lớp trong train_generator.class_indices)\n",
        "  class_names = ['Audi', 'BMW','Honda', 'Lamborghini','Lexus','Merceddes','Tesla','Toyota']\n",
        "  print('Dự đoán: {}'.format(class_names[predicted_class]))\n",
        "  plt.imshow(img)\n",
        "  plt.show()\n",
        "# *Ví dụ sử dụng*\n",
        "image_path = '/content/drive/MyDrive/Car/Lamborghini/logo-xe-hoi-lamborghini - Copy.jpg'\n",
        "predict_flower(image_path)"
      ],
      "metadata": {
        "id": "aKRhO_9NGJCS"
      },
      "execution_count": null,
      "outputs": []
    }
  ]
}